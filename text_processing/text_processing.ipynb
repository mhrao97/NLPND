{
 "cells": [
  {
   "cell_type": "markdown",
   "metadata": {},
   "source": [
    "# Text Processing\n",
    "\n",
    "## Capturing Text Data\n",
    "\n",
    "### Plain Text"
   ]
  },
  {
   "cell_type": "code",
   "execution_count": 1,
   "metadata": {
    "scrolled": true
   },
   "outputs": [
    {
     "name": "stdout",
     "output_type": "stream",
     "text": [
      "Hieroglyphic writing dates from c. 3000 BC, and is composed of hundreds of symbols. A hieroglyph can represent a word, a sound, or a silent determinative; and the same symbol can serve different purposes in different contexts. Hieroglyphs were a formal script, used on stone monuments and in tombs, that could be as detailed as individual works of art.\n",
      "\n"
     ]
    }
   ],
   "source": [
    "import os\n",
    "\n",
    "# Read in a plain text file\n",
    "with open(os.path.join(\"data\", \"hieroglyph.txt\"), \"r\") as f:\n",
    "    text = f.read()\n",
    "    print(text)"
   ]
  },
  {
   "cell_type": "markdown",
   "metadata": {},
   "source": [
    "### Tabular Data"
   ]
  },
  {
   "cell_type": "code",
   "execution_count": 2,
   "metadata": {
    "scrolled": false
   },
   "outputs": [
    {
     "data": {
      "text/html": [
       "<div>\n",
       "<style>\n",
       "    .dataframe thead tr:only-child th {\n",
       "        text-align: right;\n",
       "    }\n",
       "\n",
       "    .dataframe thead th {\n",
       "        text-align: left;\n",
       "    }\n",
       "\n",
       "    .dataframe tbody tr th {\n",
       "        vertical-align: top;\n",
       "    }\n",
       "</style>\n",
       "<table border=\"1\" class=\"dataframe\">\n",
       "  <thead>\n",
       "    <tr style=\"text-align: right;\">\n",
       "      <th></th>\n",
       "      <th>publisher</th>\n",
       "      <th>title</th>\n",
       "    </tr>\n",
       "  </thead>\n",
       "  <tbody>\n",
       "    <tr>\n",
       "      <th>0</th>\n",
       "      <td>Livemint</td>\n",
       "      <td>fed's charles plosser sees high bar for change...</td>\n",
       "    </tr>\n",
       "    <tr>\n",
       "      <th>1</th>\n",
       "      <td>IFA Magazine</td>\n",
       "      <td>us open: stocks fall after fed official hints ...</td>\n",
       "    </tr>\n",
       "    <tr>\n",
       "      <th>2</th>\n",
       "      <td>IFA Magazine</td>\n",
       "      <td>fed risks falling 'behind the curve', charles ...</td>\n",
       "    </tr>\n",
       "    <tr>\n",
       "      <th>3</th>\n",
       "      <td>Moneynews</td>\n",
       "      <td>fed's plosser: nasty weather has curbed job gr...</td>\n",
       "    </tr>\n",
       "    <tr>\n",
       "      <th>4</th>\n",
       "      <td>NASDAQ</td>\n",
       "      <td>plosser: fed may have to accelerate tapering pace</td>\n",
       "    </tr>\n",
       "  </tbody>\n",
       "</table>\n",
       "</div>"
      ],
      "text/plain": [
       "      publisher                                              title\n",
       "0      Livemint  fed's charles plosser sees high bar for change...\n",
       "1  IFA Magazine  us open: stocks fall after fed official hints ...\n",
       "2  IFA Magazine  fed risks falling 'behind the curve', charles ...\n",
       "3     Moneynews  fed's plosser: nasty weather has curbed job gr...\n",
       "4        NASDAQ  plosser: fed may have to accelerate tapering pace"
      ]
     },
     "execution_count": 2,
     "metadata": {},
     "output_type": "execute_result"
    }
   ],
   "source": [
    "import pandas as pd\n",
    "\n",
    "# Extract text column from a dataframe\n",
    "df = pd.read_csv(os.path.join(\"data\", \"news.csv\"))\n",
    "df.head()[['publisher', 'title']]\n",
    "\n",
    "# Convert text column to lowercase\n",
    "df['title'] = df['title'].str.lower()\n",
    "df.head()[['publisher', 'title']]"
   ]
  },
  {
   "cell_type": "markdown",
   "metadata": {},
   "source": [
    "### Online Resource"
   ]
  },
  {
   "cell_type": "code",
   "execution_count": 3,
   "metadata": {
    "scrolled": true
   },
   "outputs": [
    {
     "name": "stdout",
     "output_type": "stream",
     "text": [
      "{\n",
      "    \"success\": {\n",
      "        \"total\": 1\n",
      "    },\n",
      "    \"contents\": {\n",
      "        \"quotes\": [\n",
      "            {\n",
      "                \"quote\": \"An earned compliment costs nothing, but its returns are immeasurable. Very humanly, when we are complimented, when our efforts are appreciated, most of us will usually strive to perform even better down the line. What a return on the investment of delivering a few earned words of praise!\",\n",
      "                \"author\": \"G. Kingsley Ward\",\n",
      "                \"length\": \"288\",\n",
      "                \"tags\": [\n",
      "                    \"compliment\",\n",
      "                    \"inspire\",\n",
      "                    \"leadership\",\n",
      "                    \"team-building\",\n",
      "                    \"tso-management\"\n",
      "                ],\n",
      "                \"category\": \"inspire\",\n",
      "                \"title\": \"Inspiring Quote of the day\",\n",
      "                \"date\": \"2019-02-18\",\n",
      "                \"id\": null\n",
      "            }\n",
      "        ],\n",
      "        \"copyright\": \"2017-19 theysaidso.com\"\n",
      "    }\n",
      "}\n",
      "An earned compliment costs nothing, but its returns are immeasurable. Very humanly, when we are complimented, when our efforts are appreciated, most of us will usually strive to perform even better down the line. What a return on the investment of delivering a few earned words of praise! \n",
      "-- G. Kingsley Ward\n"
     ]
    }
   ],
   "source": [
    "import requests\n",
    "import json\n",
    "\n",
    "# Fetch data from a REST API\n",
    "r = requests.get(\n",
    "    \"https://quotes.rest/qod.json\")\n",
    "res = r.json()\n",
    "print(json.dumps(res, indent=4))\n",
    "\n",
    "# Extract relevant object and field\n",
    "q = res[\"contents\"][\"quotes\"][0]\n",
    "print(q[\"quote\"], \"\\n--\", q[\"author\"])"
   ]
  },
  {
   "cell_type": "markdown",
   "metadata": {},
   "source": [
    "## Cleaning"
   ]
  },
  {
   "cell_type": "code",
   "execution_count": 4,
   "metadata": {
    "scrolled": false
   },
   "outputs": [
    {
     "name": "stdout",
     "output_type": "stream",
     "text": [
      "<html op=\"news\"><head><meta name=\"referrer\" content=\"origin\"><meta name=\"viewport\" content=\"width=device-width, initial-scale=1.0\"><link rel=\"stylesheet\" type=\"text/css\" href=\"news.css?EqgJaInK6YyIlaPjfFxr\">\n",
      "            <link rel=\"shortcut icon\" href=\"favicon.ico\">\n",
      "          <link rel=\"alternate\" type=\"application/rss+xml\" title=\"RSS\" href=\"rss\">\n",
      "        <title>Hacker News</title></head><body><center><table id=\"hnmain\" border=\"0\" cellpadding=\"0\" cellspacing=\"0\" width=\"85%\" bgcolor=\"#f6f6ef\">\n",
      "        <tr><td bgcolor=\"#ff6600\"><table border=\"0\" cellpadding=\"0\" cellspacing=\"0\" width=\"100%\" style=\"padding:2px\"><tr><td style=\"width:18px;padding-right:4px\"><a href=\"https://news.ycombinator.com\"><img src=\"y18.gif\" width=\"18\" height=\"18\" style=\"border:1px white solid;\"></a></td>\n",
      "                  <td style=\"line-height:12pt; height:10px;\"><span class=\"pagetop\"><b class=\"hnname\"><a href=\"news\">Hacker News</a></b>\n",
      "              <a href=\"newest\">new</a> | <a href=\"newcomments\">comments</a> | <a href=\"ask\">ask</a> | <a href=\"show\">show</a> | <a href=\"jobs\">jobs</a> | <a href=\"submit\">submit</a>            </span></td><td style=\"text-align:right;padding-right:4px;\"><span class=\"pagetop\">\n",
      "                              <a href=\"login?goto=news\">login</a>\n",
      "                          </span></td>\n",
      "              </tr></table></td></tr>\n",
      "<tr id=\"pagespace\" title=\"\" style=\"height:10px\"></tr><tr><td><table border=\"0\" cellpadding=\"0\" cellspacing=\"0\" class=\"itemlist\">\n",
      "              <tr class='athing' id='19188642'>\n",
      "      <td align=\"right\" valign=\"top\" class=\"title\"><span class=\"rank\">1.</span></td>      <td valign=\"top\" class=\"votelinks\"><center><a id='up_19188642' href='vote?id=19188642&amp;how=up&amp;goto=news'><div class='votearrow' title='upvote'></div></a></center></td><td class=\"title\"><a href=\"http://danluu.com/2choices-eviction/\" class=\"storylink\">Cache Eviction: When Are Randomized Algorithms Better Than LRU? (2014)</a><span class=\"sitebit comhead\"> (<a href=\"from?site=danluu.com\"><span class=\"sitestr\">danluu.com</span></a>)</span></td></tr><tr><td colspan=\"2\"></td><td class=\"subtext\">\n",
      "        <span class=\"score\" id=\"score_19188642\">67 points</span> by <a href=\"user?id=zwliew\" class=\"hnuser\">zwliew</a> <span class=\"age\"><a href=\"item?id=19188642\">2 hours ago</a></span> <span id=\"unv_19188642\"></span> | <a href=\"hide?id=19188642&amp;goto=news\">hide</a> | <a href=\"item?id=19188642\">5&nbsp;comments</a>              </td></tr>\n",
      "      <tr class=\"spacer\" style=\"height:5px\"></tr>\n",
      "                <tr class='athing' id='19185956'>\n",
      "      <td align=\"right\" valign=\"top\" class=\"title\"><span class=\"rank\">2.</span></td>      <td valign=\"top\" class=\"votelinks\"><center><a id='up_19185956' href='vote?id=19185956&amp;how=up&amp;goto=news'><div class='votearrow' title='upvote'></div></a></center></td><td class=\"title\"><a href=\"https://habr.com/en/post/440596/\" class=\"storylink\">Flightradar24 – how it works</a><span class=\"sitebit comhead\"> (<a href=\"from?site=habr.com\"><span class=\"sitestr\">habr.com</span></a>)</span></td></tr><tr><td colspan=\"2\"></td><td class=\"subtext\">\n",
      "        <span class=\"score\" id=\"score_19185956\">578 points</span> by <a href=\"user?id=crunchiebones\" class=\"hnuser\">crunchiebones</a> <span class=\"age\"><a href=\"item?id=19185956\">12 hours ago</a></span> <span id=\"unv_19185956\"></span> | <a href=\"hide?id=19185956&amp;goto=news\">hide</a> | <a href=\"item?id=19185956\">106&nbsp;comments</a>              </td></tr>\n",
      "      <tr class=\"spacer\" style=\"height:5px\"></tr>\n",
      "                <tr class='athing' id='19186795'>\n",
      "      <td align=\"right\" valign=\"top\" class=\"title\"><span class=\"rank\">3.</span></td>      <td valign=\"top\" class=\"votelinks\"><center><a id='up_19186795' href='vote?id=19186795&amp;how=up&amp;goto=news'><div class='votearrow' title='upvote'></div></a></center></td><td class=\"title\"><a href=\"https://lists.zx2c4.com/pipermail/wireguard/2019-February/003853.html\" class=\"storylink\">WireGuard for MacOS</a><span class=\"sitebit comhead\"> (<a href=\"from?site=zx2c4.com\"><span class=\"sitestr\">zx2c4.com</span></a>)</span></td></tr><tr><td colspan=\"2\"></td><td class=\"subtext\">\n",
      "        <span class=\"score\" id=\"score_19186795\">312 points</span> by <a href=\"user?id=helper\" class=\"hnuser\">helper</a> <span class=\"age\"><a href=\"item?id=19186795\">9 hours ago</a></span> <span id=\"unv_19186795\"></span> | <a href=\"hide?id=19186795&amp;goto=news\">hide</a> | <a href=\"item?id=19186795\">70&nbsp;comments</a>              </td></tr>\n",
      "      <tr class=\"spacer\" style=\"height:5px\"></tr>\n",
      "                <tr class='athing' id='19187417'>\n",
      "      <td align=\"right\" valign=\"top\" class=\"title\"><span class=\"rank\">4.</span></td>      <td valign=\"top\" class=\"votelinks\"><center><a id='up_19187417' href='vote?id=19187417&amp;how=up&amp;goto=news'><div class='votearrow' title='upvote'></div></a></center></td><td class=\"title\"><a href=\"https://blog.jessfraz.com/post/ld_preload/\" class=\"storylink\">LD_PRELOAD: The Hero We Need and Deserve</a><span class=\"sitebit comhead\"> (<a href=\"from?site=jessfraz.com\"><span class=\"sitestr\">jessfraz.com</span></a>)</span></td></tr><tr><td colspan=\"2\"></td><td class=\"subtext\">\n",
      "        <span class=\"score\" id=\"score_19187417\">151 points</span> by <a href=\"user?id=ingve\" class=\"hnuser\">ingve</a> <span class=\"age\"><a href=\"item?id=19187417\">7 hours ago</a></span> <span id=\"unv_19187417\"></span> | <a href=\"hide?id=19187417&amp;goto=news\">hide</a> | <a href=\"item?id=19187417\">57&nbsp;comments</a>              </td></tr>\n",
      "      <tr class=\"spacer\" style=\"height:5px\"></tr>\n",
      "                <tr class='athing' id='19187508'>\n",
      "      <td align=\"right\" valign=\"top\" class=\"title\"><span class=\"rank\">5.</span></td>      <td valign=\"top\" class=\"votelinks\"><center><a id='up_19187508' href='vote?id=19187508&amp;how=up&amp;goto=news'><div class='votearrow' title='upvote'></div></a></center></td><td class=\"title\"><a href=\"https://www.sciencedaily.com/releases/2019/01/190125084106.htm\" class=\"storylink\">Muscle memory discovery ends 'use it or lose it' dogma</a><span class=\"sitebit comhead\"> (<a href=\"from?site=sciencedaily.com\"><span class=\"sitestr\">sciencedaily.com</span></a>)</span></td></tr><tr><td colspan=\"2\"></td><td class=\"subtext\">\n",
      "        <span class=\"score\" id=\"score_19187508\">92 points</span> by <a href=\"user?id=prostoalex\" class=\"hnuser\">prostoalex</a> <span class=\"age\"><a href=\"item?id=19187508\">7 hours ago</a></span> <span id=\"unv_19187508\"></span> | <a href=\"hide?id=19187508&amp;goto=news\">hide</a> | <a href=\"item?id=19187508\">57&nbsp;comments</a>              </td></tr>\n",
      "      <tr class=\"spacer\" style=\"height:5px\"></tr>\n",
      "                <tr class='athing' id='19186657'>\n",
      "      <td align=\"right\" valign=\"top\" class=\"title\"><span class=\"rank\">6.</span></td>      <td valign=\"top\" class=\"votelinks\"><center><a id='up_19186657' href='vote?id=19186657&amp;how=up&amp;goto=news'><div class='votearrow' title='upvote'></div></a></center></td><td class=\"title\"><a href=\"https://nickmchardy.com/2019/02/on-being-an-engineering-manager.html\" class=\"storylink\">On Being an Engineering Manager</a><span class=\"sitebit comhead\"> (<a href=\"from?site=nickmchardy.com\"><span class=\"sitestr\">nickmchardy.com</span></a>)</span></td></tr><tr><td colspan=\"2\"></td><td class=\"subtext\">\n",
      "        <span class=\"score\" id=\"score_19186657\">193 points</span> by <a href=\"user?id=boyter\" class=\"hnuser\">boyter</a> <span class=\"age\"><a href=\"item?id=19186657\">10 hours ago</a></span> <span id=\"unv_19186657\"></span> | <a href=\"hide?id=19186657&amp;goto=news\">hide</a> | <a href=\"item?id=19186657\">57&nbsp;comments</a>              </td></tr>\n",
      "      <tr class=\"spacer\" style=\"height:5px\"></tr>\n",
      "                <tr class='athing' id='19184412'>\n",
      "      <td align=\"right\" valign=\"top\" class=\"title\"><span class=\"rank\">7.</span></td>      <td valign=\"top\" class=\"votelinks\"><center><a id='up_19184412' href='vote?id=19184412&amp;how=up&amp;goto=news'><div class='votearrow' title='upvote'></div></a></center></td><td class=\"title\"><a href=\"https://www.redblobgames.com/grids/hexagons/\" class=\"storylink\">Hexagonal Grids (2013)</a><span class=\"sitebit comhead\"> (<a href=\"from?site=redblobgames.com\"><span class=\"sitestr\">redblobgames.com</span></a>)</span></td></tr><tr><td colspan=\"2\"></td><td class=\"subtext\">\n",
      "        <span class=\"score\" id=\"score_19184412\">38 points</span> by <a href=\"user?id=skilled\" class=\"hnuser\">skilled</a> <span class=\"age\"><a href=\"item?id=19184412\">4 hours ago</a></span> <span id=\"unv_19184412\"></span> | <a href=\"hide?id=19184412&amp;goto=news\">hide</a> | <a href=\"item?id=19184412\">6&nbsp;comments</a>              </td></tr>\n",
      "      <tr class=\"spacer\" style=\"height:5px\"></tr>\n",
      "                <tr class='athing' id='19187745'>\n",
      "      <td align=\"right\" valign=\"top\" class=\"title\"><span class=\"rank\">8.</span></td>      <td valign=\"top\" class=\"votelinks\"><center><a id='up_19187745' href='vote?id=19187745&amp;how=up&amp;goto=news'><div class='votearrow' title='upvote'></div></a></center></td><td class=\"title\"><a href=\"https://www.radarbox24.com/blog/space-based-ads-b\" class=\"storylink\">Space Based ADS-B</a><span class=\"sitebit comhead\"> (<a href=\"from?site=radarbox24.com\"><span class=\"sitestr\">radarbox24.com</span></a>)</span></td></tr><tr><td colspan=\"2\"></td><td class=\"subtext\">\n",
      "        <span class=\"score\" id=\"score_19187745\">46 points</span> by <a href=\"user?id=zeristor\" class=\"hnuser\">zeristor</a> <span class=\"age\"><a href=\"item?id=19187745\">6 hours ago</a></span> <span id=\"unv_19187745\"></span> | <a href=\"hide?id=19187745&amp;goto=news\">hide</a> | <a href=\"item?id=19187745\">7&nbsp;comments</a>              </td></tr>\n",
      "      <tr class=\"spacer\" style=\"height:5px\"></tr>\n",
      "                <tr class='athing' id='19185327'>\n",
      "      <td align=\"right\" valign=\"top\" class=\"title\"><span class=\"rank\">9.</span></td>      <td valign=\"top\" class=\"votelinks\"><center><a id='up_19185327' href='vote?id=19185327&amp;how=up&amp;goto=news'><div class='votearrow' title='upvote'></div></a></center></td><td class=\"title\"><a href=\"https://www.nybooks.com/articles/2019/03/07/diderot-man-who-questioned-everything/\" class=\"storylink\">A Man Who Questioned Everything</a><span class=\"sitebit comhead\"> (<a href=\"from?site=nybooks.com\"><span class=\"sitestr\">nybooks.com</span></a>)</span></td></tr><tr><td colspan=\"2\"></td><td class=\"subtext\">\n",
      "        <span class=\"score\" id=\"score_19185327\">24 points</span> by <a href=\"user?id=Elof\" class=\"hnuser\">Elof</a> <span class=\"age\"><a href=\"item?id=19185327\">5 hours ago</a></span> <span id=\"unv_19185327\"></span> | <a href=\"hide?id=19185327&amp;goto=news\">hide</a> | <a href=\"item?id=19185327\">1&nbsp;comment</a>              </td></tr>\n",
      "      <tr class=\"spacer\" style=\"height:5px\"></tr>\n",
      "                <tr class='athing' id='19187824'>\n",
      "      <td align=\"right\" valign=\"top\" class=\"title\"><span class=\"rank\">10.</span></td>      <td valign=\"top\" class=\"votelinks\"><center><a id='up_19187824' href='vote?id=19187824&amp;how=up&amp;goto=news'><div class='votearrow' title='upvote'></div></a></center></td><td class=\"title\"><a href=\"https://lars-lab.jpl.nasa.gov/JPL_Coding_Standard_C.pdf\" class=\"storylink\">JPL Institutional Coding Standard for the C Programming Language (2009) [pdf]</a><span class=\"sitebit comhead\"> (<a href=\"from?site=nasa.gov\"><span class=\"sitestr\">nasa.gov</span></a>)</span></td></tr><tr><td colspan=\"2\"></td><td class=\"subtext\">\n",
      "        <span class=\"score\" id=\"score_19187824\">39 points</span> by <a href=\"user?id=Alupis\" class=\"hnuser\">Alupis</a> <span class=\"age\"><a href=\"item?id=19187824\">6 hours ago</a></span> <span id=\"unv_19187824\"></span> | <a href=\"hide?id=19187824&amp;goto=news\">hide</a> | <a href=\"item?id=19187824\">25&nbsp;comments</a>              </td></tr>\n",
      "      <tr class=\"spacer\" style=\"height:5px\"></tr>\n",
      "                <tr class='athing' id='19187456'>\n",
      "      <td align=\"right\" valign=\"top\" class=\"title\"><span class=\"rank\">11.</span></td>      <td valign=\"top\" class=\"votelinks\"><center><a id='up_19187456' href='vote?id=19187456&amp;how=up&amp;goto=news'><div class='votearrow' title='upvote'></div></a></center></td><td class=\"title\"><a href=\"https://perspectives.mvdirona.com/2019/02/aws-nitro-system/\" class=\"storylink\">AWS Nitro System</a><span class=\"sitebit comhead\"> (<a href=\"from?site=mvdirona.com\"><span class=\"sitestr\">mvdirona.com</span></a>)</span></td></tr><tr><td colspan=\"2\"></td><td class=\"subtext\">\n",
      "        <span class=\"score\" id=\"score_19187456\">63 points</span> by <a href=\"user?id=ingve\" class=\"hnuser\">ingve</a> <span class=\"age\"><a href=\"item?id=19187456\">7 hours ago</a></span> <span id=\"unv_19187456\"></span> | <a href=\"hide?id=19187456&amp;goto=news\">hide</a> | <a href=\"item?id=19187456\">3&nbsp;comments</a>              </td></tr>\n",
      "      <tr class=\"spacer\" style=\"height:5px\"></tr>\n",
      "                <tr class='athing' id='19188372'>\n",
      "      <td align=\"right\" valign=\"top\" class=\"title\"><span class=\"rank\">12.</span></td>      <td valign=\"top\" class=\"votelinks\"><center><a id='up_19188372' href='vote?id=19188372&amp;how=up&amp;goto=news'><div class='votearrow' title='upvote'></div></a></center></td><td class=\"title\"><a href=\"https://www.parliament.uk/business/committees/committees-a-z/commons-select/digital-culture-media-and-sport-committee/news/fake-news-report-published-17-19/\" class=\"storylink\">[Cambridge Analytica] Disinformation and ‘fake news’: Final Report published</a><span class=\"sitebit comhead\"> (<a href=\"from?site=parliament.uk\"><span class=\"sitestr\">parliament.uk</span></a>)</span></td></tr><tr><td colspan=\"2\"></td><td class=\"subtext\">\n",
      "        <span class=\"score\" id=\"score_19188372\">12 points</span> by <a href=\"user?id=Anon84\" class=\"hnuser\">Anon84</a> <span class=\"age\"><a href=\"item?id=19188372\">3 hours ago</a></span> <span id=\"unv_19188372\"></span> | <a href=\"hide?id=19188372&amp;goto=news\">hide</a> | <a href=\"item?id=19188372\">1&nbsp;comment</a>              </td></tr>\n",
      "      <tr class=\"spacer\" style=\"height:5px\"></tr>\n",
      "                <tr class='athing' id='19185347'>\n",
      "      <td align=\"right\" valign=\"top\" class=\"title\"><span class=\"rank\">13.</span></td>      <td valign=\"top\" class=\"votelinks\"><center><a id='up_19185347' href='vote?id=19185347&amp;how=up&amp;goto=news'><div class='votearrow' title='upvote'></div></a></center></td><td class=\"title\"><a href=\"https://techcrunch.com/2019/02/11/y-combinators-latest-batch-of-startups-is-too-big-for-one-demo-day-stage/\" class=\"storylink\">Y Combinator’s latest batch of startups is too big for one Demo Day stage</a><span class=\"sitebit comhead\"> (<a href=\"from?site=techcrunch.com\"><span class=\"sitestr\">techcrunch.com</span></a>)</span></td></tr><tr><td colspan=\"2\"></td><td class=\"subtext\">\n",
      "        <span class=\"score\" id=\"score_19185347\">144 points</span> by <a href=\"user?id=laurex\" class=\"hnuser\">laurex</a> <span class=\"age\"><a href=\"item?id=19185347\">13 hours ago</a></span> <span id=\"unv_19185347\"></span> | <a href=\"hide?id=19185347&amp;goto=news\">hide</a> | <a href=\"item?id=19185347\">77&nbsp;comments</a>              </td></tr>\n",
      "      <tr class=\"spacer\" style=\"height:5px\"></tr>\n",
      "                <tr class='athing' id='19182877'>\n",
      "      <td align=\"right\" valign=\"top\" class=\"title\"><span class=\"rank\">14.</span></td>      <td valign=\"top\" class=\"votelinks\"><center><a id='up_19182877' href='vote?id=19182877&amp;how=up&amp;goto=news'><div class='votearrow' title='upvote'></div></a></center></td><td class=\"title\"><a href=\"https://duo.com/labs/research/apple-t2-xpc\" class=\"storylink\">Deciphering the Messages of Apple’s T2 Coprocessor</a><span class=\"sitebit comhead\"> (<a href=\"from?site=duo.com\"><span class=\"sitestr\">duo.com</span></a>)</span></td></tr><tr><td colspan=\"2\"></td><td class=\"subtext\">\n",
      "        <span class=\"score\" id=\"score_19182877\">101 points</span> by <a href=\"user?id=walterbell\" class=\"hnuser\">walterbell</a> <span class=\"age\"><a href=\"item?id=19182877\">10 hours ago</a></span> <span id=\"unv_19182877\"></span> | <a href=\"hide?id=19182877&amp;goto=news\">hide</a> | <a href=\"item?id=19182877\">19&nbsp;comments</a>              </td></tr>\n",
      "      <tr class=\"spacer\" style=\"height:5px\"></tr>\n",
      "                <tr class='athing' id='19188648'>\n",
      "      <td align=\"right\" valign=\"top\" class=\"title\"><span class=\"rank\">15.</span></td>      <td valign=\"top\" class=\"votelinks\"><center><a id='up_19188648' href='vote?id=19188648&amp;how=up&amp;goto=news'><div class='votearrow' title='upvote'></div></a></center></td><td class=\"title\"><a href=\"https://www.theguardian.com/news/2019/feb/15/the-us-hidden-empire-overseas-territories-united-states-guam-puerto-rico-american-samoa\" class=\"storylink\">How the US has hidden its empire</a><span class=\"sitebit comhead\"> (<a href=\"from?site=theguardian.com\"><span class=\"sitestr\">theguardian.com</span></a>)</span></td></tr><tr><td colspan=\"2\"></td><td class=\"subtext\">\n",
      "        <span class=\"score\" id=\"score_19188648\">43 points</span> by <a href=\"user?id=unmole\" class=\"hnuser\">unmole</a> <span class=\"age\"><a href=\"item?id=19188648\">2 hours ago</a></span> <span id=\"unv_19188648\"></span> | <a href=\"hide?id=19188648&amp;goto=news\">hide</a> | <a href=\"item?id=19188648\">5&nbsp;comments</a>              </td></tr>\n",
      "      <tr class=\"spacer\" style=\"height:5px\"></tr>\n",
      "                <tr class='athing' id='19186997'>\n",
      "      <td align=\"right\" valign=\"top\" class=\"title\"><span class=\"rank\">16.</span></td>      <td valign=\"top\" class=\"votelinks\"><center><a id='up_19186997' href='vote?id=19186997&amp;how=up&amp;goto=news'><div class='votearrow' title='upvote'></div></a></center></td><td class=\"title\"><a href=\"https://bugs.debian.org/cgi-bin/bugreport.cgi?bug=922478\" class=\"storylink\">Warning: Debian stable kernel upgrade breaks most ARM SBC</a><span class=\"sitebit comhead\"> (<a href=\"from?site=debian.org\"><span class=\"sitestr\">debian.org</span></a>)</span></td></tr><tr><td colspan=\"2\"></td><td class=\"subtext\">\n",
      "        <span class=\"score\" id=\"score_19186997\">67 points</span> by <a href=\"user?id=geppetto\" class=\"hnuser\">geppetto</a> <span class=\"age\"><a href=\"item?id=19186997\">9 hours ago</a></span> <span id=\"unv_19186997\"></span> | <a href=\"hide?id=19186997&amp;goto=news\">hide</a> | <a href=\"item?id=19186997\">14&nbsp;comments</a>              </td></tr>\n",
      "      <tr class=\"spacer\" style=\"height:5px\"></tr>\n",
      "                <tr class='athing' id='19186071'>\n",
      "      <td align=\"right\" valign=\"top\" class=\"title\"><span class=\"rank\">17.</span></td>      <td valign=\"top\" class=\"votelinks\"><center><a id='up_19186071' href='vote?id=19186071&amp;how=up&amp;goto=news'><div class='votearrow' title='upvote'></div></a></center></td><td class=\"title\"><a href=\"https://www.instructables.com/id/Digi-Comp-II-Replica/\" class=\"storylink\" rel=\"nofollow\">Digi-Comp II Replica</a><span class=\"sitebit comhead\"> (<a href=\"from?site=instructables.com\"><span class=\"sitestr\">instructables.com</span></a>)</span></td></tr><tr><td colspan=\"2\"></td><td class=\"subtext\">\n",
      "        <span class=\"score\" id=\"score_19186071\">6 points</span> by <a href=\"user?id=drmacak\" class=\"hnuser\">drmacak</a> <span class=\"age\"><a href=\"item?id=19186071\">3 hours ago</a></span> <span id=\"unv_19186071\"></span> | <a href=\"hide?id=19186071&amp;goto=news\">hide</a> | <a href=\"item?id=19186071\">discuss</a>              </td></tr>\n",
      "      <tr class=\"spacer\" style=\"height:5px\"></tr>\n",
      "                <tr class='athing' id='19186387'>\n",
      "      <td align=\"right\" valign=\"top\" class=\"title\"><span class=\"rank\">18.</span></td>      <td valign=\"top\" class=\"votelinks\"><center><a id='up_19186387' href='vote?id=19186387&amp;how=up&amp;goto=news'><div class='votearrow' title='upvote'></div></a></center></td><td class=\"title\"><a href=\"https://www.nytimes.com/2019/02/16/opinion/sunday/standardization.html\" class=\"storylink\">The Joy of Standards</a><span class=\"sitebit comhead\"> (<a href=\"from?site=nytimes.com\"><span class=\"sitestr\">nytimes.com</span></a>)</span></td></tr><tr><td colspan=\"2\"></td><td class=\"subtext\">\n",
      "        <span class=\"score\" id=\"score_19186387\">55 points</span> by <a href=\"user?id=fanf2\" class=\"hnuser\">fanf2</a> <span class=\"age\"><a href=\"item?id=19186387\">11 hours ago</a></span> <span id=\"unv_19186387\"></span> | <a href=\"hide?id=19186387&amp;goto=news\">hide</a> | <a href=\"item?id=19186387\">16&nbsp;comments</a>              </td></tr>\n",
      "      <tr class=\"spacer\" style=\"height:5px\"></tr>\n",
      "                <tr class='athing' id='19185890'>\n",
      "      <td align=\"right\" valign=\"top\" class=\"title\"><span class=\"rank\">19.</span></td>      <td valign=\"top\" class=\"votelinks\"><center><a id='up_19185890' href='vote?id=19185890&amp;how=up&amp;goto=news'><div class='votearrow' title='upvote'></div></a></center></td><td class=\"title\"><a href=\"http://www.vintageprojects.com/go-kart/flying-hovercraft.pdf\" class=\"storylink\">How I Built the Flying Cart (1960) [pdf]</a><span class=\"sitebit comhead\"> (<a href=\"from?site=vintageprojects.com\"><span class=\"sitestr\">vintageprojects.com</span></a>)</span></td></tr><tr><td colspan=\"2\"></td><td class=\"subtext\">\n",
      "        <span class=\"score\" id=\"score_19185890\">20 points</span> by <a href=\"user?id=spking\" class=\"hnuser\">spking</a> <span class=\"age\"><a href=\"item?id=19185890\">7 hours ago</a></span> <span id=\"unv_19185890\"></span> | <a href=\"hide?id=19185890&amp;goto=news\">hide</a> | <a href=\"item?id=19185890\">4&nbsp;comments</a>              </td></tr>\n",
      "      <tr class=\"spacer\" style=\"height:5px\"></tr>\n",
      "                <tr class='athing' id='19185570'>\n",
      "      <td align=\"right\" valign=\"top\" class=\"title\"><span class=\"rank\">20.</span></td>      <td valign=\"top\" class=\"votelinks\"><center><a id='up_19185570' href='vote?id=19185570&amp;how=up&amp;goto=news'><div class='votearrow' title='upvote'></div></a></center></td><td class=\"title\"><a href=\"https://community.arm.com/processors/b/blog/posts/arm-helium-the-new-vector-extension-for-arm-m-profile-architecture\" class=\"storylink\">Arm Helium: New vector extension for the M-Profile Architecture</a><span class=\"sitebit comhead\"> (<a href=\"from?site=arm.com\"><span class=\"sitestr\">arm.com</span></a>)</span></td></tr><tr><td colspan=\"2\"></td><td class=\"subtext\">\n",
      "        <span class=\"score\" id=\"score_19185570\">46 points</span> by <a href=\"user?id=flagada\" class=\"hnuser\">flagada</a> <span class=\"age\"><a href=\"item?id=19185570\">13 hours ago</a></span> <span id=\"unv_19185570\"></span> | <a href=\"hide?id=19185570&amp;goto=news\">hide</a> | <a href=\"item?id=19185570\">10&nbsp;comments</a>              </td></tr>\n",
      "      <tr class=\"spacer\" style=\"height:5px\"></tr>\n",
      "                <tr class='athing' id='19184721'>\n",
      "      <td align=\"right\" valign=\"top\" class=\"title\"><span class=\"rank\">21.</span></td>      <td valign=\"top\" class=\"votelinks\"><center><a id='up_19184721' href='vote?id=19184721&amp;how=up&amp;goto=news'><div class='votearrow' title='upvote'></div></a></center></td><td class=\"title\"><a href=\"https://www.datafix.com.au/BASHing/2019-02-17.html\" class=\"storylink\">Fancy numbering of records</a><span class=\"sitebit comhead\"> (<a href=\"from?site=datafix.com.au\"><span class=\"sitestr\">datafix.com.au</span></a>)</span></td></tr><tr><td colspan=\"2\"></td><td class=\"subtext\">\n",
      "        <span class=\"score\" id=\"score_19184721\">28 points</span> by <a href=\"user?id=eaguyhn\" class=\"hnuser\">eaguyhn</a> <span class=\"age\"><a href=\"item?id=19184721\">10 hours ago</a></span> <span id=\"unv_19184721\"></span> | <a href=\"hide?id=19184721&amp;goto=news\">hide</a> | <a href=\"item?id=19184721\">2&nbsp;comments</a>              </td></tr>\n",
      "      <tr class=\"spacer\" style=\"height:5px\"></tr>\n",
      "                <tr class='athing' id='19186516'>\n",
      "      <td align=\"right\" valign=\"top\" class=\"title\"><span class=\"rank\">22.</span></td>      <td valign=\"top\" class=\"votelinks\"><center><a id='up_19186516' href='vote?id=19186516&amp;how=up&amp;goto=news'><div class='votearrow' title='upvote'></div></a></center></td><td class=\"title\"><a href=\"http://2014.eswc-conferences.org/sites/default/files/papers/paper_211.pdf\" class=\"storylink\">NL-Graphs: A Hybrid Approach Toward Interactively Querying Semantic Data [pdf]</a><span class=\"sitebit comhead\"> (<a href=\"from?site=eswc-conferences.org\"><span class=\"sitestr\">eswc-conferences.org</span></a>)</span></td></tr><tr><td colspan=\"2\"></td><td class=\"subtext\">\n",
      "        <span class=\"score\" id=\"score_19186516\">32 points</span> by <a href=\"user?id=godelmachine\" class=\"hnuser\">godelmachine</a> <span class=\"age\"><a href=\"item?id=19186516\">10 hours ago</a></span> <span id=\"unv_19186516\"></span> | <a href=\"hide?id=19186516&amp;goto=news\">hide</a> | <a href=\"item?id=19186516\">4&nbsp;comments</a>              </td></tr>\n",
      "      <tr class=\"spacer\" style=\"height:5px\"></tr>\n",
      "                <tr class='athing' id='19187978'>\n",
      "      <td align=\"right\" valign=\"top\" class=\"title\"><span class=\"rank\">23.</span></td>      <td valign=\"top\" class=\"votelinks\"><center><a id='up_19187978' href='vote?id=19187978&amp;how=up&amp;goto=news'><div class='votearrow' title='upvote'></div></a></center></td><td class=\"title\"><a href=\"https://gitlab.com/trobador/urxvt-theme\" class=\"storylink\">Show HN: On the fly color scheme selection for rxvt-unicode</a><span class=\"sitebit comhead\"> (<a href=\"from?site=gitlab.com\"><span class=\"sitestr\">gitlab.com</span></a>)</span></td></tr><tr><td colspan=\"2\"></td><td class=\"subtext\">\n",
      "        <span class=\"score\" id=\"score_19187978\">11 points</span> by <a href=\"user?id=pera\" class=\"hnuser\">pera</a> <span class=\"age\"><a href=\"item?id=19187978\">5 hours ago</a></span> <span id=\"unv_19187978\"></span> | <a href=\"hide?id=19187978&amp;goto=news\">hide</a> | <a href=\"item?id=19187978\">1&nbsp;comment</a>              </td></tr>\n",
      "      <tr class=\"spacer\" style=\"height:5px\"></tr>\n",
      "                <tr class='athing' id='19183979'>\n",
      "      <td align=\"right\" valign=\"top\" class=\"title\"><span class=\"rank\">24.</span></td>      <td valign=\"top\" class=\"votelinks\"><center><a id='up_19183979' href='vote?id=19183979&amp;how=up&amp;goto=news'><div class='votearrow' title='upvote'></div></a></center></td><td class=\"title\"><a href=\"https://conservancy.umn.edu/handle/11299/107352\" class=\"storylink\">Oral history interview with George H. Heilmeier (1991)</a><span class=\"sitebit comhead\"> (<a href=\"from?site=umn.edu\"><span class=\"sitestr\">umn.edu</span></a>)</span></td></tr><tr><td colspan=\"2\"></td><td class=\"subtext\">\n",
      "        <span class=\"score\" id=\"score_19183979\">14 points</span> by <a href=\"user?id=killjoywashere\" class=\"hnuser\">killjoywashere</a> <span class=\"age\"><a href=\"item?id=19183979\">7 hours ago</a></span> <span id=\"unv_19183979\"></span> | <a href=\"hide?id=19183979&amp;goto=news\">hide</a> | <a href=\"item?id=19183979\">1&nbsp;comment</a>              </td></tr>\n",
      "      <tr class=\"spacer\" style=\"height:5px\"></tr>\n",
      "                <tr class='athing' id='19185816'>\n",
      "      <td align=\"right\" valign=\"top\" class=\"title\"><span class=\"rank\">25.</span></td>      <td valign=\"top\" class=\"votelinks\"><center><a id='up_19185816' href='vote?id=19185816&amp;how=up&amp;goto=news'><div class='votearrow' title='upvote'></div></a></center></td><td class=\"title\"><a href=\"https://leerob.io/blog/technical-recruiting-is-broken/\" class=\"storylink\">Technical Recruiting Needs to Focus on Selling the Position</a><span class=\"sitebit comhead\"> (<a href=\"from?site=leerob.io\"><span class=\"sitestr\">leerob.io</span></a>)</span></td></tr><tr><td colspan=\"2\"></td><td class=\"subtext\">\n",
      "        <span class=\"score\" id=\"score_19185816\">126 points</span> by <a href=\"user?id=leerob\" class=\"hnuser\">leerob</a> <span class=\"age\"><a href=\"item?id=19185816\">12 hours ago</a></span> <span id=\"unv_19185816\"></span> | <a href=\"hide?id=19185816&amp;goto=news\">hide</a> | <a href=\"item?id=19185816\">119&nbsp;comments</a>              </td></tr>\n",
      "      <tr class=\"spacer\" style=\"height:5px\"></tr>\n",
      "                <tr class='athing' id='19185148'>\n",
      "      <td align=\"right\" valign=\"top\" class=\"title\"><span class=\"rank\">26.</span></td>      <td valign=\"top\" class=\"votelinks\"><center><a id='up_19185148' href='vote?id=19185148&amp;how=up&amp;goto=news'><div class='votearrow' title='upvote'></div></a></center></td><td class=\"title\"><a href=\"http://web.ncf.ca/bz050/megalodon.html\" class=\"storylink\" rel=\"nofollow\">Evaluation of Supposed Contemporary Existence of Carcharodon Megalodon (1998)</a><span class=\"sitebit comhead\"> (<a href=\"from?site=ncf.ca\"><span class=\"sitestr\">ncf.ca</span></a>)</span></td></tr><tr><td colspan=\"2\"></td><td class=\"subtext\">\n",
      "        <span class=\"score\" id=\"score_19185148\">17 points</span> by <a href=\"user?id=bryanrasmussen\" class=\"hnuser\">bryanrasmussen</a> <span class=\"age\"><a href=\"item?id=19185148\">5 hours ago</a></span> <span id=\"unv_19185148\"></span> | <a href=\"hide?id=19185148&amp;goto=news\">hide</a> | <a href=\"item?id=19185148\">3&nbsp;comments</a>              </td></tr>\n",
      "      <tr class=\"spacer\" style=\"height:5px\"></tr>\n",
      "                <tr class='athing' id='19184773'>\n",
      "      <td align=\"right\" valign=\"top\" class=\"title\"><span class=\"rank\">27.</span></td>      <td valign=\"top\" class=\"votelinks\"><center><a id='up_19184773' href='vote?id=19184773&amp;how=up&amp;goto=news'><div class='votearrow' title='upvote'></div></a></center></td><td class=\"title\"><a href=\"http://www.jfsowa.com/ikl/McCarthy02.pdf\" class=\"storylink\" rel=\"nofollow\">An architecture of diversity for commonsense reasoning (2002) [pdf]</a><span class=\"sitebit comhead\"> (<a href=\"from?site=jfsowa.com\"><span class=\"sitestr\">jfsowa.com</span></a>)</span></td></tr><tr><td colspan=\"2\"></td><td class=\"subtext\">\n",
      "        <span class=\"score\" id=\"score_19184773\">9 points</span> by <a href=\"user?id=headalgorithm\" class=\"hnuser\">headalgorithm</a> <span class=\"age\"><a href=\"item?id=19184773\">4 hours ago</a></span> <span id=\"unv_19184773\"></span> | <a href=\"hide?id=19184773&amp;goto=news\">hide</a> | <a href=\"item?id=19184773\">discuss</a>              </td></tr>\n",
      "      <tr class=\"spacer\" style=\"height:5px\"></tr>\n",
      "                <tr class='athing' id='19187891'>\n",
      "      <td align=\"right\" valign=\"top\" class=\"title\"><span class=\"rank\">28.</span></td>      <td valign=\"top\" class=\"votelinks\"><center><a id='up_19187891' href='vote?id=19187891&amp;how=up&amp;goto=news'><div class='votearrow' title='upvote'></div></a></center></td><td class=\"title\"><a href=\"http://www.janafadness.com/blog/no-extreme-minimalism/\" class=\"storylink\" rel=\"nofollow\">Why I Gave Up on Extreme Minimalism (2015)</a><span class=\"sitebit comhead\"> (<a href=\"from?site=janafadness.com\"><span class=\"sitestr\">janafadness.com</span></a>)</span></td></tr><tr><td colspan=\"2\"></td><td class=\"subtext\">\n",
      "        <span class=\"score\" id=\"score_19187891\">10 points</span> by <a href=\"user?id=farazzz\" class=\"hnuser\">farazzz</a> <span class=\"age\"><a href=\"item?id=19187891\">6 hours ago</a></span> <span id=\"unv_19187891\"></span> | <a href=\"hide?id=19187891&amp;goto=news\">hide</a> | <a href=\"item?id=19187891\">2&nbsp;comments</a>              </td></tr>\n",
      "      <tr class=\"spacer\" style=\"height:5px\"></tr>\n",
      "                <tr class='athing' id='19184496'>\n",
      "      <td align=\"right\" valign=\"top\" class=\"title\"><span class=\"rank\">29.</span></td>      <td valign=\"top\" class=\"votelinks\"><center><a id='up_19184496' href='vote?id=19184496&amp;how=up&amp;goto=news'><div class='votearrow' title='upvote'></div></a></center></td><td class=\"title\"><a href=\"https://journal.plausible.io/you-probably-dont-need-a-single-page-app\" class=\"storylink\">You probably don't need a single-page app</a><span class=\"sitebit comhead\"> (<a href=\"from?site=plausible.io\"><span class=\"sitestr\">plausible.io</span></a>)</span></td></tr><tr><td colspan=\"2\"></td><td class=\"subtext\">\n",
      "        <span class=\"score\" id=\"score_19184496\">702 points</span> by <a href=\"user?id=ukutaht\" class=\"hnuser\">ukutaht</a> <span class=\"age\"><a href=\"item?id=19184496\">16 hours ago</a></span> <span id=\"unv_19184496\"></span> | <a href=\"hide?id=19184496&amp;goto=news\">hide</a> | <a href=\"item?id=19184496\">435&nbsp;comments</a>              </td></tr>\n",
      "      <tr class=\"spacer\" style=\"height:5px\"></tr>\n",
      "                <tr class='athing' id='19185925'>\n",
      "      <td align=\"right\" valign=\"top\" class=\"title\"><span class=\"rank\">30.</span></td>      <td valign=\"top\" class=\"votelinks\"><center><a id='up_19185925' href='vote?id=19185925&amp;how=up&amp;goto=news'><div class='votearrow' title='upvote'></div></a></center></td><td class=\"title\"><a href=\"https://boingboing.net/2019/02/17/etsy-sellers-say-their-bank-ac.html\" class=\"storylink\">Etsy sellers say their bank accounts were emptied in major billing snafu</a><span class=\"sitebit comhead\"> (<a href=\"from?site=boingboing.net\"><span class=\"sitestr\">boingboing.net</span></a>)</span></td></tr><tr><td colspan=\"2\"></td><td class=\"subtext\">\n",
      "        <span class=\"score\" id=\"score_19185925\">163 points</span> by <a href=\"user?id=mkeeter\" class=\"hnuser\">mkeeter</a> <span class=\"age\"><a href=\"item?id=19185925\">12 hours ago</a></span> <span id=\"unv_19185925\"></span> | <a href=\"hide?id=19185925&amp;goto=news\">hide</a> | <a href=\"item?id=19185925\">93&nbsp;comments</a>              </td></tr>\n",
      "      <tr class=\"spacer\" style=\"height:5px\"></tr>\n",
      "            <tr class=\"morespace\" style=\"height:10px\"></tr><tr><td colspan=\"2\"></td><td class=\"title\"><a href=\"news?p=2\" class=\"morelink\" rel=\"nofollow\">More</a></td></tr>\n",
      "  </table>\n",
      "</td></tr>\n",
      "<tr><td><img src=\"s.gif\" height=\"10\" width=\"0\"><table width=\"100%\" cellspacing=\"0\" cellpadding=\"1\"><tr><td bgcolor=\"#ff6600\"></td></tr></table><br><center><a href=\"https://www.ycombinator.com/apply/\">\n",
      "        Applications are open for YC Summer 2019\n",
      "      </a></center><br><center><span class=\"yclinks\"><a href=\"newsguidelines.html\">Guidelines</a>\n",
      "        | <a href=\"newsfaq.html\">FAQ</a>\n",
      "        | <a href=\"mailto:hn@ycombinator.com\">Support</a>\n",
      "        | <a href=\"https://github.com/HackerNews/API\">API</a>\n",
      "        | <a href=\"security.html\">Security</a>\n",
      "        | <a href=\"lists\">Lists</a>\n",
      "        | <a href=\"bookmarklet.html\" rel=\"nofollow\">Bookmarklet</a>\n",
      "        | <a href=\"http://www.ycombinator.com/legal/\">Legal</a>\n",
      "        | <a href=\"http://www.ycombinator.com/apply/\">Apply to YC</a>\n",
      "        | <a href=\"mailto:hn@ycombinator.com\">Contact</a></span><br><br><form method=\"get\" action=\"//hn.algolia.com/\">Search:\n",
      "          <input type=\"text\" name=\"q\" value=\"\" size=\"17\" autocorrect=\"off\" spellcheck=\"false\" autocapitalize=\"off\" autocomplete=\"false\"></form>\n",
      "            </center></td></tr>\n",
      "      </table></center></body><script type='text/javascript' src='hn.js?EqgJaInK6YyIlaPjfFxr'></script>\n",
      "  </html>\n",
      "\n"
     ]
    }
   ],
   "source": [
    "import requests\n",
    "\n",
    "# Fetch a web page\n",
    "r = requests.get(\"https://news.ycombinator.com\")\n",
    "print(r.text)"
   ]
  },
  {
   "cell_type": "code",
   "execution_count": 5,
   "metadata": {
    "scrolled": false
   },
   "outputs": [
    {
     "name": "stdout",
     "output_type": "stream",
     "text": [
      "\n",
      "            \n",
      "          \n",
      "        Hacker News\n",
      "        \n",
      "                  Hacker News\n",
      "              new | comments | ask | show | jobs | submit            \n",
      "                              login\n",
      "                          \n",
      "              \n",
      "\n",
      "              \n",
      "      1.      Cache Eviction: When Are Randomized Algorithms Better Than LRU? (2014) (danluu.com)\n",
      "        67 points by zwliew 2 hours ago  | hide | 5&nbsp;comments              \n",
      "      \n",
      "                \n",
      "      2.      Flightradar24 – how it works (habr.com)\n",
      "        578 points by crunchiebones 12 hours ago  | hide | 106&nbsp;comments              \n",
      "      \n",
      "                \n",
      "      3.      WireGuard for MacOS (zx2c4.com)\n",
      "        312 points by helper 9 hours ago  | hide | 70&nbsp;comments              \n",
      "      \n",
      "                \n",
      "      4.      LD_PRELOAD: The Hero We Need and Deserve (jessfraz.com)\n",
      "        151 points by ingve 7 hours ago  | hide | 57&nbsp;comments              \n",
      "      \n",
      "                \n",
      "      5.      Muscle memory discovery ends 'use it or lose it' dogma (sciencedaily.com)\n",
      "        92 points by prostoalex 7 hours ago  | hide | 57&nbsp;comments              \n",
      "      \n",
      "                \n",
      "      6.      On Being an Engineering Manager (nickmchardy.com)\n",
      "        193 points by boyter 10 hours ago  | hide | 57&nbsp;comments              \n",
      "      \n",
      "                \n",
      "      7.      Hexagonal Grids (2013) (redblobgames.com)\n",
      "        38 points by skilled 4 hours ago  | hide | 6&nbsp;comments              \n",
      "      \n",
      "                \n",
      "      8.      Space Based ADS-B (radarbox24.com)\n",
      "        46 points by zeristor 6 hours ago  | hide | 7&nbsp;comments              \n",
      "      \n",
      "                \n",
      "      9.      A Man Who Questioned Everything (nybooks.com)\n",
      "        24 points by Elof 5 hours ago  | hide | 1&nbsp;comment              \n",
      "      \n",
      "                \n",
      "      10.      JPL Institutional Coding Standard for the C Programming Language (2009) [pdf] (nasa.gov)\n",
      "        39 points by Alupis 6 hours ago  | hide | 25&nbsp;comments              \n",
      "      \n",
      "                \n",
      "      11.      AWS Nitro System (mvdirona.com)\n",
      "        63 points by ingve 7 hours ago  | hide | 3&nbsp;comments              \n",
      "      \n",
      "                \n",
      "      12.      [Cambridge Analytica] Disinformation and ‘fake news’: Final Report published (parliament.uk)\n",
      "        12 points by Anon84 3 hours ago  | hide | 1&nbsp;comment              \n",
      "      \n",
      "                \n",
      "      13.      Y Combinator’s latest batch of startups is too big for one Demo Day stage (techcrunch.com)\n",
      "        144 points by laurex 13 hours ago  | hide | 77&nbsp;comments              \n",
      "      \n",
      "                \n",
      "      14.      Deciphering the Messages of Apple’s T2 Coprocessor (duo.com)\n",
      "        101 points by walterbell 10 hours ago  | hide | 19&nbsp;comments              \n",
      "      \n",
      "                \n",
      "      15.      How the US has hidden its empire (theguardian.com)\n",
      "        43 points by unmole 2 hours ago  | hide | 5&nbsp;comments              \n",
      "      \n",
      "                \n",
      "      16.      Warning: Debian stable kernel upgrade breaks most ARM SBC (debian.org)\n",
      "        67 points by geppetto 9 hours ago  | hide | 14&nbsp;comments              \n",
      "      \n",
      "                \n",
      "      17.      Digi-Comp II Replica (instructables.com)\n",
      "        6 points by drmacak 3 hours ago  | hide | discuss              \n",
      "      \n",
      "                \n",
      "      18.      The Joy of Standards (nytimes.com)\n",
      "        55 points by fanf2 11 hours ago  | hide | 16&nbsp;comments              \n",
      "      \n",
      "                \n",
      "      19.      How I Built the Flying Cart (1960) [pdf] (vintageprojects.com)\n",
      "        20 points by spking 7 hours ago  | hide | 4&nbsp;comments              \n",
      "      \n",
      "                \n",
      "      20.      Arm Helium: New vector extension for the M-Profile Architecture (arm.com)\n",
      "        46 points by flagada 13 hours ago  | hide | 10&nbsp;comments              \n",
      "      \n",
      "                \n",
      "      21.      Fancy numbering of records (datafix.com.au)\n",
      "        28 points by eaguyhn 10 hours ago  | hide | 2&nbsp;comments              \n",
      "      \n",
      "                \n",
      "      22.      NL-Graphs: A Hybrid Approach Toward Interactively Querying Semantic Data [pdf] (eswc-conferences.org)\n",
      "        32 points by godelmachine 10 hours ago  | hide | 4&nbsp;comments              \n",
      "      \n",
      "                \n",
      "      23.      Show HN: On the fly color scheme selection for rxvt-unicode (gitlab.com)\n",
      "        11 points by pera 5 hours ago  | hide | 1&nbsp;comment              \n",
      "      \n",
      "                \n",
      "      24.      Oral history interview with George H. Heilmeier (1991) (umn.edu)\n",
      "        14 points by killjoywashere 7 hours ago  | hide | 1&nbsp;comment              \n",
      "      \n",
      "                \n",
      "      25.      Technical Recruiting Needs to Focus on Selling the Position (leerob.io)\n",
      "        126 points by leerob 12 hours ago  | hide | 119&nbsp;comments              \n",
      "      \n",
      "                \n",
      "      26.      Evaluation of Supposed Contemporary Existence of Carcharodon Megalodon (1998) (ncf.ca)\n",
      "        17 points by bryanrasmussen 5 hours ago  | hide | 3&nbsp;comments              \n",
      "      \n",
      "                \n",
      "      27.      An architecture of diversity for commonsense reasoning (2002) [pdf] (jfsowa.com)\n",
      "        9 points by headalgorithm 4 hours ago  | hide | discuss              \n",
      "      \n",
      "                \n",
      "      28.      Why I Gave Up on Extreme Minimalism (2015) (janafadness.com)\n",
      "        10 points by farazzz 6 hours ago  | hide | 2&nbsp;comments              \n",
      "      \n",
      "                \n",
      "      29.      You probably don't need a single-page app (plausible.io)\n",
      "        702 points by ukutaht 16 hours ago  | hide | 435&nbsp;comments              \n",
      "      \n",
      "                \n",
      "      30.      Etsy sellers say their bank accounts were emptied in major billing snafu (boingboing.net)\n",
      "        163 points by mkeeter 12 hours ago  | hide | 93&nbsp;comments              \n",
      "      \n",
      "            More\n",
      "  \n",
      "\n",
      "\n",
      "        Applications are open for YC Summer 2019\n",
      "      Guidelines\n",
      "        | FAQ\n",
      "        | Support\n",
      "        | API\n",
      "        | Security\n",
      "        | Lists\n",
      "        | Bookmarklet\n",
      "        | Legal\n",
      "        | Apply to YC\n",
      "        | ContactSearch:\n",
      "          \n",
      "            \n",
      "      \n",
      "  \n",
      "\n"
     ]
    }
   ],
   "source": [
    "import re\n",
    "\n",
    "# Remove HTML tags using RegEx\n",
    "pattern = re.compile(r'<.*?>')  # tags look like <...>\n",
    "print(pattern.sub('', r.text))  # replace them with blank"
   ]
  },
  {
   "cell_type": "code",
   "execution_count": 6,
   "metadata": {
    "scrolled": false
   },
   "outputs": [
    {
     "name": "stdout",
     "output_type": "stream",
     "text": [
      "\n",
      "            \n",
      "          \n",
      "        Hacker News\n",
      "        \n",
      "                  Hacker News\n",
      "              new | comments | ask | show | jobs | submit            \n",
      "                              login\n",
      "                          \n",
      "              \n",
      "\n",
      "              \n",
      "      1.      Cache Eviction: When Are Randomized Algorithms Better Than LRU? (2014) (danluu.com)\n",
      "        67 points by zwliew 2 hours ago  | hide | 5 comments              \n",
      "      \n",
      "                \n",
      "      2.      Flightradar24 – how it works (habr.com)\n",
      "        578 points by crunchiebones 12 hours ago  | hide | 106 comments              \n",
      "      \n",
      "                \n",
      "      3.      WireGuard for MacOS (zx2c4.com)\n",
      "        312 points by helper 9 hours ago  | hide | 70 comments              \n",
      "      \n",
      "                \n",
      "      4.      LD_PRELOAD: The Hero We Need and Deserve (jessfraz.com)\n",
      "        151 points by ingve 7 hours ago  | hide | 57 comments              \n",
      "      \n",
      "                \n",
      "      5.      Muscle memory discovery ends 'use it or lose it' dogma (sciencedaily.com)\n",
      "        92 points by prostoalex 7 hours ago  | hide | 57 comments              \n",
      "      \n",
      "                \n",
      "      6.      On Being an Engineering Manager (nickmchardy.com)\n",
      "        193 points by boyter 10 hours ago  | hide | 57 comments              \n",
      "      \n",
      "                \n",
      "      7.      Hexagonal Grids (2013) (redblobgames.com)\n",
      "        38 points by skilled 4 hours ago  | hide | 6 comments              \n",
      "      \n",
      "                \n",
      "      8.      Space Based ADS-B (radarbox24.com)\n",
      "        46 points by zeristor 6 hours ago  | hide | 7 comments              \n",
      "      \n",
      "                \n",
      "      9.      A Man Who Questioned Everything (nybooks.com)\n",
      "        24 points by Elof 5 hours ago  | hide | 1 comment              \n",
      "      \n",
      "                \n",
      "      10.      JPL Institutional Coding Standard for the C Programming Language (2009) [pdf] (nasa.gov)\n",
      "        39 points by Alupis 6 hours ago  | hide | 25 comments              \n",
      "      \n",
      "                \n",
      "      11.      AWS Nitro System (mvdirona.com)\n",
      "        63 points by ingve 7 hours ago  | hide | 3 comments              \n",
      "      \n",
      "                \n",
      "      12.      [Cambridge Analytica] Disinformation and ‘fake news’: Final Report published (parliament.uk)\n",
      "        12 points by Anon84 3 hours ago  | hide | 1 comment              \n",
      "      \n",
      "                \n",
      "      13.      Y Combinator’s latest batch of startups is too big for one Demo Day stage (techcrunch.com)\n",
      "        144 points by laurex 13 hours ago  | hide | 77 comments              \n",
      "      \n",
      "                \n",
      "      14.      Deciphering the Messages of Apple’s T2 Coprocessor (duo.com)\n",
      "        101 points by walterbell 10 hours ago  | hide | 19 comments              \n",
      "      \n",
      "                \n",
      "      15.      How the US has hidden its empire (theguardian.com)\n",
      "        43 points by unmole 2 hours ago  | hide | 5 comments              \n",
      "      \n",
      "                \n",
      "      16.      Warning: Debian stable kernel upgrade breaks most ARM SBC (debian.org)\n",
      "        67 points by geppetto 9 hours ago  | hide | 14 comments              \n",
      "      \n",
      "                \n",
      "      17.      Digi-Comp II Replica (instructables.com)\n",
      "        6 points by drmacak 3 hours ago  | hide | discuss              \n",
      "      \n",
      "                \n",
      "      18.      The Joy of Standards (nytimes.com)\n",
      "        55 points by fanf2 11 hours ago  | hide | 16 comments              \n",
      "      \n",
      "                \n",
      "      19.      How I Built the Flying Cart (1960) [pdf] (vintageprojects.com)\n",
      "        20 points by spking 7 hours ago  | hide | 4 comments              \n",
      "      \n",
      "                \n",
      "      20.      Arm Helium: New vector extension for the M-Profile Architecture (arm.com)\n",
      "        46 points by flagada 13 hours ago  | hide | 10 comments              \n",
      "      \n",
      "                \n",
      "      21.      Fancy numbering of records (datafix.com.au)\n",
      "        28 points by eaguyhn 10 hours ago  | hide | 2 comments              \n",
      "      \n",
      "                \n",
      "      22.      NL-Graphs: A Hybrid Approach Toward Interactively Querying Semantic Data [pdf] (eswc-conferences.org)\n",
      "        32 points by godelmachine 10 hours ago  | hide | 4 comments              \n",
      "      \n",
      "                \n",
      "      23.      Show HN: On the fly color scheme selection for rxvt-unicode (gitlab.com)\n",
      "        11 points by pera 5 hours ago  | hide | 1 comment              \n",
      "      \n",
      "                \n",
      "      24.      Oral history interview with George H. Heilmeier (1991) (umn.edu)\n",
      "        14 points by killjoywashere 7 hours ago  | hide | 1 comment              \n",
      "      \n",
      "                \n",
      "      25.      Technical Recruiting Needs to Focus on Selling the Position (leerob.io)\n",
      "        126 points by leerob 12 hours ago  | hide | 119 comments              \n",
      "      \n",
      "                \n",
      "      26.      Evaluation of Supposed Contemporary Existence of Carcharodon Megalodon (1998) (ncf.ca)\n",
      "        17 points by bryanrasmussen 5 hours ago  | hide | 3 comments              \n",
      "      \n",
      "                \n",
      "      27.      An architecture of diversity for commonsense reasoning (2002) [pdf] (jfsowa.com)\n",
      "        9 points by headalgorithm 4 hours ago  | hide | discuss              \n",
      "      \n",
      "                \n",
      "      28.      Why I Gave Up on Extreme Minimalism (2015) (janafadness.com)\n",
      "        10 points by farazzz 6 hours ago  | hide | 2 comments              \n",
      "      \n",
      "                \n",
      "      29.      You probably don't need a single-page app (plausible.io)\n",
      "        702 points by ukutaht 16 hours ago  | hide | 435 comments              \n",
      "      \n",
      "                \n",
      "      30.      Etsy sellers say their bank accounts were emptied in major billing snafu (boingboing.net)\n",
      "        163 points by mkeeter 12 hours ago  | hide | 93 comments              \n",
      "      \n",
      "            More\n",
      "  \n",
      "\n",
      "\n",
      "        Applications are open for YC Summer 2019\n",
      "      Guidelines\n",
      "        | FAQ\n",
      "        | Support\n",
      "        | API\n",
      "        | Security\n",
      "        | Lists\n",
      "        | Bookmarklet\n",
      "        | Legal\n",
      "        | Apply to YC\n",
      "        | ContactSearch:\n",
      "          \n",
      "            \n",
      "      \n",
      "  \n",
      "\n"
     ]
    }
   ],
   "source": [
    "from bs4 import BeautifulSoup\n",
    "\n",
    "# Remove HTML tags using Beautiful Soup library\n",
    "soup = BeautifulSoup(r.text, \"html5lib\")\n",
    "print(soup.get_text())"
   ]
  },
  {
   "cell_type": "code",
   "execution_count": 7,
   "metadata": {
    "scrolled": false
   },
   "outputs": [
    {
     "data": {
      "text/plain": [
       "<tr class=\"athing\" id=\"19188642\">\n",
       "      <td align=\"right\" class=\"title\" valign=\"top\"><span class=\"rank\">1.</span></td>      <td class=\"votelinks\" valign=\"top\"><center><a href=\"vote?id=19188642&amp;how=up&amp;goto=news\" id=\"up_19188642\"><div class=\"votearrow\" title=\"upvote\"></div></a></center></td><td class=\"title\"><a class=\"storylink\" href=\"http://danluu.com/2choices-eviction/\">Cache Eviction: When Are Randomized Algorithms Better Than LRU? (2014)</a><span class=\"sitebit comhead\"> (<a href=\"from?site=danluu.com\"><span class=\"sitestr\">danluu.com</span></a>)</span></td></tr>"
      ]
     },
     "execution_count": 7,
     "metadata": {},
     "output_type": "execute_result"
    }
   ],
   "source": [
    "# Find all articles\n",
    "summaries = soup.find_all(\"tr\", class_=\"athing\")\n",
    "summaries[0]"
   ]
  },
  {
   "cell_type": "code",
   "execution_count": 8,
   "metadata": {
    "scrolled": true
   },
   "outputs": [
    {
     "data": {
      "text/plain": [
       "'Cache Eviction: When Are Randomized Algorithms Better Than LRU? (2014)'"
      ]
     },
     "execution_count": 8,
     "metadata": {},
     "output_type": "execute_result"
    }
   ],
   "source": [
    "# Extract title\n",
    "summaries[0].find(\"a\", class_=\"storylink\").get_text().strip()"
   ]
  },
  {
   "cell_type": "code",
   "execution_count": 9,
   "metadata": {
    "scrolled": true
   },
   "outputs": [
    {
     "name": "stdout",
     "output_type": "stream",
     "text": [
      "30 Article summaries found. Sample:\n",
      "Cache Eviction: When Are Randomized Algorithms Better Than LRU? (2014)\n"
     ]
    }
   ],
   "source": [
    "# Find all articles, extract titles\n",
    "articles = []\n",
    "summaries = soup.find_all(\"tr\", class_=\"athing\")\n",
    "for summary in summaries:\n",
    "    title = summary.find(\"a\", class_=\"storylink\").get_text().strip()\n",
    "    articles.append((title))\n",
    "\n",
    "print(len(articles), \"Article summaries found. Sample:\")\n",
    "print(articles[0])"
   ]
  },
  {
   "cell_type": "markdown",
   "metadata": {
    "collapsed": true
   },
   "source": [
    "## Normalization"
   ]
  },
  {
   "cell_type": "markdown",
   "metadata": {},
   "source": [
    "### Case Normalization"
   ]
  },
  {
   "cell_type": "code",
   "execution_count": 10,
   "metadata": {
    "scrolled": true
   },
   "outputs": [
    {
     "name": "stdout",
     "output_type": "stream",
     "text": [
      "The first time you see The Second Renaissance it may look boring. Look at it at least twice and definitely watch part 2. It will change your view of the matrix. Are the human people the ones who started the war ? Is AI a bad thing ?\n"
     ]
    }
   ],
   "source": [
    "# Sample text\n",
    "text = \"The first time you see The Second Renaissance it may look boring. Look at it at least twice and definitely watch part 2. It will change your view of the matrix. Are the human people the ones who started the war ? Is AI a bad thing ?\"\n",
    "print(text)"
   ]
  },
  {
   "cell_type": "code",
   "execution_count": 11,
   "metadata": {
    "scrolled": true
   },
   "outputs": [
    {
     "name": "stdout",
     "output_type": "stream",
     "text": [
      "the first time you see the second renaissance it may look boring. look at it at least twice and definitely watch part 2. it will change your view of the matrix. are the human people the ones who started the war ? is ai a bad thing ?\n"
     ]
    }
   ],
   "source": [
    "# Convert to lowercase\n",
    "text = text.lower() \n",
    "print(text)"
   ]
  },
  {
   "cell_type": "markdown",
   "metadata": {},
   "source": [
    "### Punctuation Removal"
   ]
  },
  {
   "cell_type": "code",
   "execution_count": 12,
   "metadata": {
    "scrolled": true
   },
   "outputs": [
    {
     "name": "stdout",
     "output_type": "stream",
     "text": [
      "the first time you see the second renaissance it may look boring  look at it at least twice and definitely watch part 2  it will change your view of the matrix  are the human people the ones who started the war   is ai a bad thing  \n"
     ]
    }
   ],
   "source": [
    "import re\n",
    "\n",
    "# Remove punctuation characters\n",
    "text = re.sub(r\"[^a-zA-Z0-9]\", \" \", text) \n",
    "print(text)"
   ]
  },
  {
   "cell_type": "markdown",
   "metadata": {},
   "source": [
    "## Tokenization"
   ]
  },
  {
   "cell_type": "code",
   "execution_count": 13,
   "metadata": {
    "scrolled": true
   },
   "outputs": [
    {
     "name": "stdout",
     "output_type": "stream",
     "text": [
      "['the', 'first', 'time', 'you', 'see', 'the', 'second', 'renaissance', 'it', 'may', 'look', 'boring', 'look', 'at', 'it', 'at', 'least', 'twice', 'and', 'definitely', 'watch', 'part', '2', 'it', 'will', 'change', 'your', 'view', 'of', 'the', 'matrix', 'are', 'the', 'human', 'people', 'the', 'ones', 'who', 'started', 'the', 'war', 'is', 'ai', 'a', 'bad', 'thing']\n"
     ]
    }
   ],
   "source": [
    "# Split text into tokens (words)\n",
    "words = text.split()\n",
    "print(words)"
   ]
  },
  {
   "cell_type": "markdown",
   "metadata": {},
   "source": [
    "### NLTK: Natural Language ToolKit"
   ]
  },
  {
   "cell_type": "code",
   "execution_count": 14,
   "metadata": {
    "scrolled": true
   },
   "outputs": [],
   "source": [
    "import os\n",
    "import nltk\n",
    "nltk.data.path.append(os.path.join(os.getcwd(), \"nltk_data\"))"
   ]
  },
  {
   "cell_type": "code",
   "execution_count": 15,
   "metadata": {
    "scrolled": true
   },
   "outputs": [
    {
     "name": "stdout",
     "output_type": "stream",
     "text": [
      "Dr. Smith graduated from the University of Washington. He later started an analytics firm called Lux, which catered to enterprise customers.\n"
     ]
    }
   ],
   "source": [
    "# Another sample text\n",
    "text = \"Dr. Smith graduated from the University of Washington. He later started an analytics firm called Lux, which catered to enterprise customers.\"\n",
    "print(text)"
   ]
  },
  {
   "cell_type": "code",
   "execution_count": 16,
   "metadata": {
    "scrolled": true
   },
   "outputs": [
    {
     "name": "stdout",
     "output_type": "stream",
     "text": [
      "['Dr.', 'Smith', 'graduated', 'from', 'the', 'University', 'of', 'Washington', '.', 'He', 'later', 'started', 'an', 'analytics', 'firm', 'called', 'Lux', ',', 'which', 'catered', 'to', 'enterprise', 'customers', '.']\n"
     ]
    }
   ],
   "source": [
    "from nltk.tokenize import word_tokenize\n",
    "\n",
    "# Split text into words using NLTK\n",
    "words = word_tokenize(text)\n",
    "print(words)"
   ]
  },
  {
   "cell_type": "code",
   "execution_count": 17,
   "metadata": {
    "scrolled": true
   },
   "outputs": [
    {
     "name": "stdout",
     "output_type": "stream",
     "text": [
      "['Dr. Smith graduated from the University of Washington.', 'He later started an analytics firm called Lux, which catered to enterprise customers.']\n"
     ]
    }
   ],
   "source": [
    "from nltk.tokenize import sent_tokenize\n",
    "\n",
    "# Split text into sentences\n",
    "sentences = sent_tokenize(text)\n",
    "print(sentences)"
   ]
  },
  {
   "cell_type": "code",
   "execution_count": 18,
   "metadata": {
    "scrolled": true
   },
   "outputs": [
    {
     "name": "stdout",
     "output_type": "stream",
     "text": [
      "['i', 'me', 'my', 'myself', 'we', 'our', 'ours', 'ourselves', 'you', \"you're\", \"you've\", \"you'll\", \"you'd\", 'your', 'yours', 'yourself', 'yourselves', 'he', 'him', 'his', 'himself', 'she', \"she's\", 'her', 'hers', 'herself', 'it', \"it's\", 'its', 'itself', 'they', 'them', 'their', 'theirs', 'themselves', 'what', 'which', 'who', 'whom', 'this', 'that', \"that'll\", 'these', 'those', 'am', 'is', 'are', 'was', 'were', 'be', 'been', 'being', 'have', 'has', 'had', 'having', 'do', 'does', 'did', 'doing', 'a', 'an', 'the', 'and', 'but', 'if', 'or', 'because', 'as', 'until', 'while', 'of', 'at', 'by', 'for', 'with', 'about', 'against', 'between', 'into', 'through', 'during', 'before', 'after', 'above', 'below', 'to', 'from', 'up', 'down', 'in', 'out', 'on', 'off', 'over', 'under', 'again', 'further', 'then', 'once', 'here', 'there', 'when', 'where', 'why', 'how', 'all', 'any', 'both', 'each', 'few', 'more', 'most', 'other', 'some', 'such', 'no', 'nor', 'not', 'only', 'own', 'same', 'so', 'than', 'too', 'very', 's', 't', 'can', 'will', 'just', 'don', \"don't\", 'should', \"should've\", 'now', 'd', 'll', 'm', 'o', 're', 've', 'y', 'ain', 'aren', \"aren't\", 'couldn', \"couldn't\", 'didn', \"didn't\", 'doesn', \"doesn't\", 'hadn', \"hadn't\", 'hasn', \"hasn't\", 'haven', \"haven't\", 'isn', \"isn't\", 'ma', 'mightn', \"mightn't\", 'mustn', \"mustn't\", 'needn', \"needn't\", 'shan', \"shan't\", 'shouldn', \"shouldn't\", 'wasn', \"wasn't\", 'weren', \"weren't\", 'won', \"won't\", 'wouldn', \"wouldn't\"]\n"
     ]
    }
   ],
   "source": [
    "# List stop words\n",
    "from nltk.corpus import stopwords\n",
    "print(stopwords.words(\"english\"))"
   ]
  },
  {
   "cell_type": "code",
   "execution_count": 19,
   "metadata": {
    "scrolled": true
   },
   "outputs": [
    {
     "name": "stdout",
     "output_type": "stream",
     "text": [
      "['the', 'first', 'time', 'you', 'see', 'the', 'second', 'renaissance', 'it', 'may', 'look', 'boring', 'look', 'at', 'it', 'at', 'least', 'twice', 'and', 'definitely', 'watch', 'part', '2', 'it', 'will', 'change', 'your', 'view', 'of', 'the', 'matrix', 'are', 'the', 'human', 'people', 'the', 'ones', 'who', 'started', 'the', 'war', 'is', 'ai', 'a', 'bad', 'thing']\n"
     ]
    }
   ],
   "source": [
    "# Reset text\n",
    "text = \"The first time you see The Second Renaissance it may look boring. Look at it at least twice and definitely watch part 2. It will change your view of the matrix. Are the human people the ones who started the war ? Is AI a bad thing ?\"\n",
    "\n",
    "# Normalize it\n",
    "text = re.sub(r\"[^a-zA-Z0-9]\", \" \", text.lower())\n",
    "\n",
    "# Tokenize it\n",
    "words = text.split()\n",
    "print(words)"
   ]
  },
  {
   "cell_type": "code",
   "execution_count": 20,
   "metadata": {
    "scrolled": true
   },
   "outputs": [
    {
     "name": "stdout",
     "output_type": "stream",
     "text": [
      "['first', 'time', 'see', 'second', 'renaissance', 'may', 'look', 'boring', 'look', 'least', 'twice', 'definitely', 'watch', 'part', '2', 'change', 'view', 'matrix', 'human', 'people', 'ones', 'started', 'war', 'ai', 'bad', 'thing']\n"
     ]
    }
   ],
   "source": [
    "# Remove stop words\n",
    "words = [w for w in words if w not in stopwords.words(\"english\")]\n",
    "print(words)"
   ]
  },
  {
   "cell_type": "markdown",
   "metadata": {},
   "source": [
    "### Sentence Parsing"
   ]
  },
  {
   "cell_type": "code",
   "execution_count": 21,
   "metadata": {
    "scrolled": true
   },
   "outputs": [
    {
     "name": "stdout",
     "output_type": "stream",
     "text": [
      "(S\n",
      "  (NP I)\n",
      "  (VP\n",
      "    (VP (V shot) (NP (Det an) (N elephant)))\n",
      "    (PP (P in) (NP (Det my) (N pajamas)))))\n",
      "(S\n",
      "  (NP I)\n",
      "  (VP\n",
      "    (V shot)\n",
      "    (NP (Det an) (N elephant) (PP (P in) (NP (Det my) (N pajamas))))))\n"
     ]
    }
   ],
   "source": [
    "import nltk\n",
    "\n",
    "# Define a custom grammar\n",
    "my_grammar = nltk.CFG.fromstring(\"\"\"\n",
    "S -> NP VP\n",
    "PP -> P NP\n",
    "NP -> Det N | Det N PP | 'I'\n",
    "VP -> V NP | VP PP\n",
    "Det -> 'an' | 'my'\n",
    "N -> 'elephant' | 'pajamas'\n",
    "V -> 'shot'\n",
    "P -> 'in'\n",
    "\"\"\")\n",
    "parser = nltk.ChartParser(my_grammar)\n",
    "\n",
    "# Parse a sentence\n",
    "sentence = word_tokenize(\"I shot an elephant in my pajamas\")\n",
    "for tree in parser.parse(sentence):\n",
    "    print(tree)"
   ]
  },
  {
   "cell_type": "markdown",
   "metadata": {},
   "source": [
    "## Stemming & Lemmatization\n",
    "\n",
    "### Stemming"
   ]
  },
  {
   "cell_type": "code",
   "execution_count": 22,
   "metadata": {
    "scrolled": true
   },
   "outputs": [
    {
     "name": "stdout",
     "output_type": "stream",
     "text": [
      "['first', 'time', 'see', 'second', 'renaiss', 'may', 'look', 'bore', 'look', 'least', 'twice', 'definit', 'watch', 'part', '2', 'chang', 'view', 'matrix', 'human', 'peopl', 'one', 'start', 'war', 'ai', 'bad', 'thing']\n"
     ]
    }
   ],
   "source": [
    "from nltk.stem.porter import PorterStemmer\n",
    "\n",
    "# Reduce words to their stems\n",
    "stemmed = [PorterStemmer().stem(w) for w in words]\n",
    "print(stemmed)"
   ]
  },
  {
   "cell_type": "markdown",
   "metadata": {},
   "source": [
    "### Lemmatization"
   ]
  },
  {
   "cell_type": "code",
   "execution_count": 23,
   "metadata": {
    "scrolled": true
   },
   "outputs": [
    {
     "name": "stdout",
     "output_type": "stream",
     "text": [
      "['first', 'time', 'see', 'second', 'renaissance', 'may', 'look', 'boring', 'look', 'least', 'twice', 'definitely', 'watch', 'part', '2', 'change', 'view', 'matrix', 'human', 'people', 'one', 'started', 'war', 'ai', 'bad', 'thing']\n"
     ]
    }
   ],
   "source": [
    "from nltk.stem.wordnet import WordNetLemmatizer\n",
    "\n",
    "# Reduce words to their root form\n",
    "lemmed = [WordNetLemmatizer().lemmatize(w) for w in words]\n",
    "print(lemmed)"
   ]
  },
  {
   "cell_type": "code",
   "execution_count": 24,
   "metadata": {
    "scrolled": true
   },
   "outputs": [
    {
     "name": "stdout",
     "output_type": "stream",
     "text": [
      "['first', 'time', 'see', 'second', 'renaissance', 'may', 'look', 'bore', 'look', 'least', 'twice', 'definitely', 'watch', 'part', '2', 'change', 'view', 'matrix', 'human', 'people', 'one', 'start', 'war', 'ai', 'bad', 'thing']\n"
     ]
    }
   ],
   "source": [
    "# Lemmatize verbs by specifying pos\n",
    "lemmed = [WordNetLemmatizer().lemmatize(w, pos='v') for w in lemmed]\n",
    "print(lemmed)"
   ]
  },
  {
   "cell_type": "code",
   "execution_count": null,
   "metadata": {
    "scrolled": true
   },
   "outputs": [],
   "source": []
  }
 ],
 "metadata": {
  "kernelspec": {
   "display_name": "Python 3",
   "language": "python",
   "name": "python3"
  },
  "language_info": {
   "codemirror_mode": {
    "name": "ipython",
    "version": 3
   },
   "file_extension": ".py",
   "mimetype": "text/x-python",
   "name": "python",
   "nbconvert_exporter": "python",
   "pygments_lexer": "ipython3",
   "version": "3.5.4"
  }
 },
 "nbformat": 4,
 "nbformat_minor": 2
}
